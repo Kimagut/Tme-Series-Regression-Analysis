version https://git-lfs.github.com/spec/v1
oid sha256:9a6ca4215776798ab59ea3a08f8fb6cd95b3252ccee8d2004df9e942cd12a9b9
size 2969770
